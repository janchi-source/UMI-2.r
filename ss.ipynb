import genetic_all as ga                  #STU FEI Genetic Toolbox in Python
import numpy as np
import math
import matplotlib.pyplot as plt
import random
import plotly.graph_objects as go

numgen    = 420	      # number of generations
lpop      = 50;	      # number of chromosomes in population
lstring   = 20;	      # number of genes in a chromosome
M         = 500;      # maximum of the search space
FitMin = []
INT_MAX = 1000
evo = []


B = np.array([
    [0, 0],
    [77, 68],
    [12, 75],
    [32, 17],
    [51, 64],
    [20, 19],
    [72, 87],
    [80, 37],
    [35, 82],
    [2, 15],
    [18, 90],
    [33, 50],
    [85, 52],
    [97, 27],
    [37, 67],
    [20, 82],
    [49, 0],
    [62, 14],
    [7, 60],
    [100, 100]
])


evolution = np.zeros(numgen+1)

Space     = np.array([np.ones(lstring) * (-M), np.ones(lstring) * M]) # (from -500 to 500)
Delta     = Space[1, :] / 100.0










def basicGA(Pop,Fit):
  
  #Vyber 3 najlepsich z populacie
  SubPop1, _ = ga.selbest(Pop, Fit, [1, 1, 1], 0)
  #ostatny jedinci
  # new_Pop, _ = ga.selsus(Pop, Fit, 47)
  SubPop2, _ = ga.seltourn(Pop, Fit, 47)

  ga.swappart(SubPop1, 0.11)
  ga.swapgen(SubPop2, 0.17)
  # ga.crossov(Pop, 1, 0)
  #mutacia 0.2
  # ga.mutx(Pop, 0.2, Space)
  #mutacia vstupnej populacie
  # ga.muta(Pop, 0.2, Delta, Space)
  
  Pop = np.vstack((SubPop1, SubPop2))

  return Pop



def fitness(Pop, B):
  f = [] * lpop
  Fit = np.zeros((lpop), float)
  
  for i in range(lpop):
    for j in range(lstring - 1):
        x = int(Pop[i, j])
        n = int(Pop[i, j + 1])

        if 0 <= x < len(B) and 0 <= n < len(B):
            dis = math.sqrt((((B[n][0] - B[x][0])**2) + ((B[n][1] - B[x][1])**2)))
            Fit[i] += dis 
        else:
            print(f"Index out of bounds - x={x}, n={n}")
    print(f"Debug: Pop[i][1] = {Pop[i][1]}, Pop[i][17] = {Pop[i][17]}")
    if 0 <= int(Pop[i][1]) < len(B) and 0 <= int(Pop[i][17]) < len(B) and 0 <= 19 < len(B):
        Fit[i] += (math.dist(B[0], B[int(Pop[i][1])]) + math.dist(B[int(Pop[i][17])], B[19]))
    else:
        print(f"Index out of bounds - Pop[i][1]={Pop[i][1]}, Pop[i][17]={Pop[i][17]}, 19={19}")
  return Fit

def minfit(Fit, FitMin):
  minf = np.min(Fit)
  FitMin = np.append(FitMin, minf)
  return FitMin


def genrpop_perm():
    Pop = np.zeros((lpop, lstring), int)
    for i in range(lpop):
        shuffled_array = np.random.permutation([1, 2, 3, 4, 5, 6, 7, 8, 9, 10, 11, 12, 13, 14, 15, 16, 17, 18])
        Pop[i, :len(shuffled_array)] = shuffled_array

    return Pop



#main cyklus
while np.any(FitMin) > 700:

  #calc Fitness function/value
  # Fit   =   ga.schwefel(Pop)

  #eggholder funkcia pre testovanie
  # ga.eggholder(Pop)

  #rastrigin funkcia pre testovanie
  # ga.rastrigin(Pop)
  Pop = genrpop_perm()
  Fit = fitness(Pop, B)
  FitMin = minfit(Fit, FitMin)

  
  # evo = np.zeros(numgen + 1)
  evo.append(min(Fit))
  Pop = basicGA(Pop, Fit)

  # if np.any(FitMin > Fit[0]):
  #   FitMin = Fit[0]
  #   PopMin = Pop[0]

  best_path = Pop[np.argmin(Fit)]
  plt.figure(figsize=(8, 6))











  # for i, point in enumerate(B):
  #   plt.plot(point[0], point[1], 'bo')
  #   plt.text(point[0], point[1], f'{i}', ha='right')

  # for i in range(len(best_path) - 1):
  #   start_point = B[int(best_path[i])]
  #   end_point = B[int(best_path[i + 1])]
  #   plt.plot([start_point[0], end_point[0]], [start_point[1], end_point[1]], 'r-')

  # plt.plot([B[int(best_path[-1])][0], 100], [B[int(best_path[-1])][1], 100], 'g--') 









  #genetics operations
  # Pop = basicGA(Pop,Fit)
  # new_pop, new_fit = ga.selbest(Pop, Fit, [1, 1, 1])

plt.plot(range(gg), FitMin, label='Convergence')
plt.xlabel('Generation')
plt.ylabel('Minimum Fitness Value')
plt.title('Genetic Algorithm Convergence')
plt.legend()
plt.show()




# x_coords = [point[0] for point in B]
# y_coords = [point[1] for point in B]
# plt.scatter(x_coords, y_coords, c='blue', marker='o', label='Points')
# plt.xlabel('X-axis')
# plt.ylabel('Y-axis')
# plt.title('Scatter Plot of Points')
# plt.legend()
# plt.show()


# temparray = np.zeros((lstring + 2, 2))
# for i in range(lstring):
#     p_act = PopMin[i]
#     temparray[i + 1] = B[p_act]
# temparray[0] = B[0]
# temparray[19] = B[19]


# x_coords, y_coords = temparray[:, 0], temparray[:, 1]

# plt.plot(x_coords, y_coords, marker="o", linestyle="-")
# for i, (xi, yi) in enumerate(temparray):
#     plt.text(xi, yi, f"{i + 1}")




# plt.title("TSP")
# plt.xlabel("X súradnica")
# plt.ylabel("Y cunadnira")
# plt. show()

gg = go.Figure()

gg.add_trace(go.Scatter(y = fit, mode='lines+markers', name='Fitness Value', hovertemplate='Generation: %{x}<br>Fitness: %{y}'))

gg.update_layout(
    title="TSP",
    xaxis_title="Gen",
    yaxis_title="Vzdialenost",
    xaxis_range=[0-1, numgen+1],
    hovermode="closest"
    )

gg.show()

plt.figure(figsize=(8, 6))

# plt.plot([0, B[int(best_path[0])][0]], [0, B[int(best_path[0])][1]], 'g--')

for i, point in enumerate(B):
    plt.plot(point[0], point[1], 'bo')
    plt.text(point[0], point[1], f'{i}', ha='right')

for i in range(len(best_path) - 1):
    start_point = B[int(best_path[i])]
    end_point = B[int(best_path[i + 1])]
    plt.plot([start_point[0], end_point[0]], [start_point[1], end_point[1]], 'r-')

plt.plot([B[int(best_path[-1])][0], 100], [B[int(best_path[-1])][1], 100], 'g--')

plt.title("TSP Map")
plt.xlabel("X-axis")
plt.ylabel("Y-axis")
plt.grid(True)
plt.tight_layout()

plt.savefig('tsp_map_with_connections.png')
plt.show()